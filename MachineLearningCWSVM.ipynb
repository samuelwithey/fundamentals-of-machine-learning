{
  "nbformat": 4,
  "nbformat_minor": 0,
  "metadata": {
    "colab": {
      "name": "MachineLearningCWSVM.ipynb",
      "version": "0.3.2",
      "provenance": [],
      "collapsed_sections": [
        "AFUV2ETV8mjS"
      ],
      "toc_visible": true
    },
    "kernelspec": {
      "name": "python3",
      "display_name": "Python 3"
    }
  },
  "cells": [
    {
      "cell_type": "markdown",
      "metadata": {
        "id": "TagF-jtA3b9Q",
        "colab_type": "text"
      },
      "source": [
        "# **Imports**\n",
        "\n",
        "Files will need to be imported locally."
      ]
    },
    {
      "cell_type": "code",
      "metadata": {
        "id": "sM2TRL4P3Xke",
        "colab_type": "code",
        "colab": {}
      },
      "source": [
        "import sklearn\n",
        "import pandas as pd\n",
        "import numpy as np\n",
        "import matplotlib.pyplot as plt\n",
        "from sklearn import svm, preprocessing\n",
        "from sklearn.model_selection import GridSearchCV\n",
        "from google.colab import files\n",
        "from sklearn.model_selection import KFold\n",
        "from sklearn.model_selection import cross_val_score\n",
        "from statistics import mean\n",
        "from sklearn.model_selection import learning_curve\n",
        "from imblearn.under_sampling import RandomUnderSampler\n",
        "from collections import Counter\n",
        "from sklearn.model_selection import ShuffleSplit\n",
        "from sklearn.decomposition import FastICA\n",
        "from sklearn.preprocessing import MinMaxScaler\n",
        "from matplotlib.pyplot import savefig\n",
        "\n",
        "#Mounting Google Drive\n",
        "#from google.colab import drive\n",
        "#drive.mount('/content/gdrive')\n",
        "\n",
        "#Importing csv files\n",
        "trainingData = pd.read_csv('training.csv')\n",
        "testingData = pd.read_csv('testing.csv')\n",
        "additionalData = pd.read_csv('additional_training.csv')\n",
        "annotation_confidence = pd.read_csv('annotation_confidence.csv')"
      ],
      "execution_count": 0,
      "outputs": []
    },
    {
      "cell_type": "markdown",
      "metadata": {
        "id": "RMGxmXMA31z-",
        "colab_type": "text"
      },
      "source": [
        "# **Formatting Data**\n",
        "\n",
        "*   Replaces NaN values with the mean\n",
        "*   Concatenate training data and additional training data\n",
        "*   Formatting the data correctly for pre-processing\n",
        "\n"
      ]
    },
    {
      "cell_type": "code",
      "metadata": {
        "id": "nOIIHy2d31N2",
        "colab_type": "code",
        "colab": {}
      },
      "source": [
        "#Replacing additional training data NaN values to the mean of additional data\n",
        "trainNaN = additionalData.fillna(additionalData.mean())\n",
        "\n",
        "#Concatenate training data and additional training data\n",
        "allTrainingData = pd.concat([trainingData, trainNaN])\n",
        "\n",
        "#Converting combined training data into a matrix\n",
        "data_matrix = allTrainingData.values\n",
        "\n",
        "#Generating X by removing ID and prediction columns\n",
        "X = data_matrix[:,1:-1]\n",
        "\n",
        "#Generating y by removing all but prediction values\n",
        "y = data_matrix[:,-1:]\n",
        "\n",
        "#Converting testing data into a matrix and removing ID column\n",
        "testingData_matrix = testingData.values\n",
        "testingData_matrix = testingData_matrix[:,1:]\n",
        "\n",
        "#Converting annotation confidence into a matrix and removing ID column\n",
        "annotation_confidence_matrix = annotation_confidence.values\n",
        "annotation_confidence_matrix = annotation_confidence_matrix[:,-1:]"
      ],
      "execution_count": 0,
      "outputs": []
    },
    {
      "cell_type": "markdown",
      "metadata": {
        "id": "uL5IOIPd39UO",
        "colab_type": "text"
      },
      "source": [
        "# **Preprocessing**\n",
        "\n",
        "\n",
        "*   Feature Scaling using Min Max Scaler\n",
        "*   Undersampling training data to balance classes\n",
        "*   Data transformation on X resampled using FastICA\n",
        "\n"
      ]
    },
    {
      "cell_type": "code",
      "metadata": {
        "id": "JjvxMyc88Piu",
        "colab_type": "code",
        "colab": {}
      },
      "source": [
        "#Scaling\n",
        "min_max_scaler = preprocessing.MinMaxScaler()\n",
        "X_train_minmax = min_max_scaler.fit_transform(X)\n",
        "testing_minmax = min_max_scaler.transform(testingData_matrix)"
      ],
      "execution_count": 0,
      "outputs": []
    },
    {
      "cell_type": "code",
      "metadata": {
        "id": "m0L1kbup4BJe",
        "colab_type": "code",
        "colab": {
          "base_uri": "https://localhost:8080/",
          "height": 84
        },
        "outputId": "fa9cf41a-94c8-4372-aed1-4eac44be105e"
      },
      "source": [
        "#undersampling\n",
        "print('Original dataset len %s' % len(y))\n",
        "print('Original dataset shape %s' % Counter(y.ravel()))\n",
        "rus = RandomUnderSampler(random_state=42)\n",
        "X_res, y_res = rus.fit_resample(X_train_minmax, y.ravel())\n",
        "print('Resampled dataset shape %s' % Counter(y_res.ravel()))\n",
        "print('Resampled dataset len %s' % len(y_res))\n",
        "confidence = []\n",
        "for index in rus.sample_indices_:\n",
        "  confidence.append(annotation_confidence_matrix[index])\n",
        "confidence_values = np.asarray(confidence, dtype=np.float32)"
      ],
      "execution_count": 64,
      "outputs": [
        {
          "output_type": "stream",
          "text": [
            "Original dataset len 2590\n",
            "Original dataset shape Counter({1.0: 1555, 0.0: 1035})\n",
            "Resampled dataset shape Counter({0.0: 1035, 1.0: 1035})\n",
            "Resampled dataset len 2070\n"
          ],
          "name": "stdout"
        }
      ]
    },
    {
      "cell_type": "code",
      "metadata": {
        "id": "auJa0rBo4EAm",
        "colab_type": "code",
        "colab": {}
      },
      "source": [
        "#ICA\n",
        "transformer = FastICA(n_components=120, random_state=42)\n",
        "X_transformed = transformer.fit_transform(X_res)\n",
        "testFeaturesICA = transformer.transform(testing_minmax)"
      ],
      "execution_count": 0,
      "outputs": []
    },
    {
      "cell_type": "markdown",
      "metadata": {
        "id": "9TMxye8r4F8e",
        "colab_type": "text"
      },
      "source": [
        "# **Classification and Prediction**\n",
        "\n",
        "\n",
        "*   Building the SVM using optimised hyperparameters from grid search\n",
        "*   Fitting the SVM with X ICA transformed, y resampled and confidence values for sample weights\n",
        "*   Predicting the testing data using ICA transformed testing data\n",
        "*   Casting prediction values to int for Kaggle\n",
        "\n"
      ]
    },
    {
      "cell_type": "code",
      "metadata": {
        "id": "VBI4qiF44LOV",
        "colab_type": "code",
        "colab": {}
      },
      "source": [
        "#Building, training and predicting the classifier\n",
        "clf = svm.SVC(kernel='rbf', C=5.052631578947368, gamma=0.7526315789473685)\n",
        "clf.fit(X_transformed, y_res.ravel(), sample_weight=confidence_values.ravel())\n",
        "predictions = clf.predict(testFeaturesICA)\n",
        "prediction = []\n",
        "for predict in predictions:\n",
        "  prediction.append(int(predict))"
      ],
      "execution_count": 0,
      "outputs": []
    },
    {
      "cell_type": "markdown",
      "metadata": {
        "id": "p373QllK4bmm",
        "colab_type": "text"
      },
      "source": [
        "# **Cross Validation**\n",
        "\n",
        "*   Calculating k fold cross validation scores (where k_folds = 10)\n",
        "*   Displaying the mean of the cross validation scores for each k fold\n",
        "\n"
      ]
    },
    {
      "cell_type": "code",
      "metadata": {
        "id": "NWDmEuCJ4dBF",
        "colab_type": "code",
        "colab": {
          "base_uri": "https://localhost:8080/",
          "height": 34
        },
        "outputId": "7712a5bd-3d2c-4eea-e6d5-ecd21fd652f6"
      },
      "source": [
        "#Cross Validation Score\n",
        "score = cross_val_score(clf, X_transformed, y_res.ravel(), cv = 10)\n",
        "print('CV mean score',mean(score))"
      ],
      "execution_count": 67,
      "outputs": [
        {
          "output_type": "stream",
          "text": [
            "CV mean score 0.7091719566840926\n"
          ],
          "name": "stdout"
        }
      ]
    },
    {
      "cell_type": "markdown",
      "metadata": {
        "id": "1_6GBTiK5gEF",
        "colab_type": "text"
      },
      "source": [
        "# **Plotting Learning Curve**\n",
        "\n",
        "Reference: https://scikit-learn.org/stable/auto_examples/model_selection/plot_learning_curve.html#sphx-glr-auto-examples-model-selection-plot-learning-curve-py"
      ]
    },
    {
      "cell_type": "code",
      "metadata": {
        "id": "HVamJsWw5gKG",
        "colab_type": "code",
        "colab": {}
      },
      "source": [
        "def plot_learning_curve(estimator, title, X, y, ylim=None, cv=None,\n",
        "                        n_jobs=None, train_sizes=np.linspace(.1, 1.0, 5)):\n",
        "    \"\"\"\n",
        "    Generate a simple plot of the test and training learning curve.\n",
        "\n",
        "    Parameters\n",
        "    ----------\n",
        "    estimator : object type that implements the \"fit\" and \"predict\" methods\n",
        "        An object of that type which is cloned for each validation.\n",
        "\n",
        "    title : string\n",
        "        Title for the chart.\n",
        "\n",
        "    X : array-like, shape (n_samples, n_features)\n",
        "        Training vector, where n_samples is the number of samples and\n",
        "        n_features is the number of features.\n",
        "\n",
        "    y : array-like, shape (n_samples) or (n_samples, n_features), optional\n",
        "        Target relative to X for classification or regression;\n",
        "        None for unsupervised learning.\n",
        "\n",
        "    ylim : tuple, shape (ymin, ymax), optional\n",
        "        Defines minimum and maximum yvalues plotted.\n",
        "\n",
        "    cv : int, cross-validation generator or an iterable, optional\n",
        "        Determines the cross-validation splitting strategy.\n",
        "        Possible inputs for cv are:\n",
        "          - None, to use the default 3-fold cross-validation,\n",
        "          - integer, to specify the number of folds.\n",
        "          - :term:`CV splitter`,\n",
        "          - An iterable yielding (train, test) splits as arrays of indices.\n",
        "\n",
        "        For integer/None inputs, if ``y`` is binary or multiclass,\n",
        "        :class:`StratifiedKFold` used. If the estimator is not a classifier\n",
        "        or if ``y`` is neither binary nor multiclass, :class:`KFold` is used.\n",
        "\n",
        "        Refer :ref:`User Guide <cross_validation>` for the various\n",
        "        cross-validators that can be used here.\n",
        "\n",
        "    n_jobs : int or None, optional (default=None)\n",
        "        Number of jobs to run in parallel.\n",
        "        ``None`` means 1 unless in a :obj:`joblib.parallel_backend` context.\n",
        "        ``-1`` means using all processors. See :term:`Glossary <n_jobs>`\n",
        "        for more details.\n",
        "\n",
        "    train_sizes : array-like, shape (n_ticks,), dtype float or int\n",
        "        Relative or absolute numbers of training examples that will be used to\n",
        "        generate the learning curve. If the dtype is float, it is regarded as a\n",
        "        fraction of the maximum size of the training set (that is determined\n",
        "        by the selected validation method), i.e. it has to be within (0, 1].\n",
        "        Otherwise it is interpreted as absolute sizes of the training sets.\n",
        "        Note that for classification the number of samples usually have to\n",
        "        be big enough to contain at least one sample from each class.\n",
        "        (default: np.linspace(0.1, 1.0, 5))\n",
        "    \"\"\"\n",
        "    plt.figure()\n",
        "    plt.title(title)\n",
        "    if ylim is not None:\n",
        "        plt.ylim(*ylim)\n",
        "    plt.xlabel(\"Training examples\")\n",
        "    plt.ylabel(\"Score\")\n",
        "    train_sizes, train_scores, test_scores = learning_curve(\n",
        "        estimator, X, y, cv=cv, n_jobs=n_jobs, train_sizes=train_sizes)\n",
        "    train_scores_mean = np.mean(train_scores, axis=1)\n",
        "    train_scores_std = np.std(train_scores, axis=1)\n",
        "    test_scores_mean = np.mean(test_scores, axis=1)\n",
        "    test_scores_std = np.std(test_scores, axis=1)\n",
        "    plt.grid()\n",
        "\n",
        "    plt.fill_between(train_sizes, train_scores_mean - train_scores_std, train_scores_mean + train_scores_std, alpha=0.1, color=\"r\")\n",
        "    plt.fill_between(train_sizes, test_scores_mean - test_scores_std, test_scores_mean + test_scores_std, alpha=0.1, color=\"g\")\n",
        "    plt.plot(train_sizes, train_scores_mean, 'o-', color=\"r\", label=\"Training score\")\n",
        "    plt.plot(train_sizes, test_scores_mean, 'o-', color=\"g\", label=\"Cross-validation score\")\n",
        "    plt.legend(loc=\"best\")\n",
        "    return plt"
      ],
      "execution_count": 0,
      "outputs": []
    },
    {
      "cell_type": "markdown",
      "metadata": {
        "id": "svrLZRF64mdm",
        "colab_type": "text"
      },
      "source": [
        "# **Display Learning Curve**\n",
        "\n",
        "\n",
        "*   Plotting and displaying learning curve for SVM\n",
        "*   Downloading learning curve as a PNG (commented out for grading)\n",
        "\n"
      ]
    },
    {
      "cell_type": "code",
      "metadata": {
        "id": "_KvmZISD4phl",
        "colab_type": "code",
        "colab": {
          "base_uri": "https://localhost:8080/",
          "height": 312
        },
        "outputId": "116684e1-b255-4d16-f5be-04079696d2b1"
      },
      "source": [
        "#Plot Learning Curve\n",
        "title = 'Learning Curve: SVM'\n",
        "cv = ShuffleSplit(n_splits=5, test_size=0.2, random_state=0)\n",
        "plot_learning_curve(clf, title, X_transformed, y_res, cv=cv, n_jobs=-1)\n",
        "#plt.savefig(\"LearningCurve.png\")\n",
        "#files.download(\"LearningCurve.png\")"
      ],
      "execution_count": 68,
      "outputs": [
        {
          "output_type": "execute_result",
          "data": {
            "text/plain": [
              "<module 'matplotlib.pyplot' from '/usr/local/lib/python3.6/dist-packages/matplotlib/pyplot.py'>"
            ]
          },
          "metadata": {
            "tags": []
          },
          "execution_count": 68
        },
        {
          "output_type": "display_data",
          "data": {
            "image/png": "[encoded data removed]",
            "text/plain": [
              "<Figure size 432x288 with 1 Axes>"
            ]
          },
          "metadata": {
            "tags": []
          }
        }
      ]
    },
    {
      "cell_type": "markdown",
      "metadata": {
        "id": "efP3Tlr95r2F",
        "colab_type": "text"
      },
      "source": [
        "# **Exporting to CSV**\n",
        "\n",
        "\n",
        "\n",
        "*   Exporting prediction results to CSV for Kaggle submission\n",
        "\n"
      ]
    },
    {
      "cell_type": "code",
      "metadata": {
        "id": "9_eNa-FY5r7t",
        "colab_type": "code",
        "colab": {}
      },
      "source": [
        "#exporting to csv\n",
        "submission = pd.DataFrame({\"prediction\":prediction})\n",
        "submission.index = np.arange(1, len(submission) + 1)\n",
        "submission.index.name = \"ID\"\n",
        "submission.to_csv(\"submission.csv\")\n",
        "\n",
        "#downloads csv file\n",
        "files.download(\"submission.csv\")"
      ],
      "execution_count": 0,
      "outputs": []
    },
    {
      "cell_type": "markdown",
      "metadata": {
        "id": "AFUV2ETV8mjS",
        "colab_type": "text"
      },
      "source": [
        "# **Gridsearch for SVM to Optimise Hyperparameters**\n",
        "\n",
        "\n",
        "\n",
        "*   Optimised grid search to get accurate hyperparameters\n",
        "\n"
      ]
    },
    {
      "cell_type": "code",
      "metadata": {
        "id": "831FlA9s6Nz0",
        "colab_type": "code",
        "colab": {
          "base_uri": "https://localhost:8080/",
          "height": 151
        },
        "outputId": "827e37bd-9625-4963-a9d3-d40cd6093d5c"
      },
      "source": [
        "parameters = {'kernel':('linear', 'rbf'), 'C':np.linspace(1,10, num = 10), 'gamma':np.linspace(0.1,5,num=10)}\n",
        "grid_search = GridSearchCV(svm.SVC(), parameters, cv=5,  n_jobs=-1, verbose = 2)\n",
        "grid_search.fit(X_transformed, y_res.ravel())\n",
        "print(grid_search.best_params_)"
      ],
      "execution_count": 19,
      "outputs": [
        {
          "output_type": "stream",
          "text": [
            "Fitting 5 folds for each of 200 candidates, totalling 1000 fits\n"
          ],
          "name": "stdout"
        },
        {
          "output_type": "stream",
          "text": [
            "[Parallel(n_jobs=-1)]: Using backend LokyBackend with 2 concurrent workers.\n",
            "[Parallel(n_jobs=-1)]: Done  37 tasks      | elapsed:   25.8s\n",
            "[Parallel(n_jobs=-1)]: Done 158 tasks      | elapsed:  1.7min\n",
            "[Parallel(n_jobs=-1)]: Done 361 tasks      | elapsed:  3.6min\n",
            "[Parallel(n_jobs=-1)]: Done 644 tasks      | elapsed:  6.1min\n",
            "[Parallel(n_jobs=-1)]: Done 1000 out of 1000 | elapsed:  9.2min finished\n"
          ],
          "name": "stderr"
        },
        {
          "output_type": "stream",
          "text": [
            "{'C': 6.0, 'gamma': 0.6444444444444445, 'kernel': 'rbf'}\n"
          ],
          "name": "stdout"
        }
      ]
    },
    {
      "cell_type": "code",
      "metadata": {
        "id": "9tZ9fWf_IKof",
        "colab_type": "code",
        "colab": {
          "base_uri": "https://localhost:8080/",
          "height": 202
        },
        "outputId": "abc2638b-9467-48bb-872e-5dc060c1cf6d"
      },
      "source": [
        "parameters = {'C':np.linspace(5,7, num = 20), 'gamma':np.linspace(0.1,1,num=20)}\n",
        "grid_search = GridSearchCV(svm.SVC(kernel='rbf'), parameters, cv=5,  n_jobs=-1, verbose = 2)\n",
        "grid_search.fit(X_transformed, y_res.ravel())\n",
        "print(grid_search.best_params_)"
      ],
      "execution_count": 22,
      "outputs": [
        {
          "output_type": "stream",
          "text": [
            "Fitting 5 folds for each of 400 candidates, totalling 2000 fits\n"
          ],
          "name": "stdout"
        },
        {
          "output_type": "stream",
          "text": [
            "[Parallel(n_jobs=-1)]: Using backend LokyBackend with 2 concurrent workers.\n",
            "[Parallel(n_jobs=-1)]: Done  37 tasks      | elapsed:   25.5s\n",
            "[Parallel(n_jobs=-1)]: Done 158 tasks      | elapsed:  1.7min\n",
            "[Parallel(n_jobs=-1)]: Done 361 tasks      | elapsed:  3.8min\n",
            "[Parallel(n_jobs=-1)]: Done 644 tasks      | elapsed:  6.7min\n",
            "[Parallel(n_jobs=-1)]: Done 1009 tasks      | elapsed: 10.4min\n",
            "[Parallel(n_jobs=-1)]: Done 1454 tasks      | elapsed: 14.9min\n",
            "[Parallel(n_jobs=-1)]: Done 1981 tasks      | elapsed: 20.1min\n",
            "[Parallel(n_jobs=-1)]: Done 2000 out of 2000 | elapsed: 20.3min finished\n"
          ],
          "name": "stderr"
        },
        {
          "output_type": "stream",
          "text": [
            "{'C': 5.0, 'gamma': 0.7631578947368421}\n"
          ],
          "name": "stdout"
        }
      ]
    },
    {
      "cell_type": "code",
      "metadata": {
        "id": "CNxKpy5kZzBo",
        "colab_type": "code",
        "colab": {
          "base_uri": "https://localhost:8080/",
          "height": 202
        },
        "outputId": "de2e7e53-78ec-4c58-adeb-73c7e38cbc1e"
      },
      "source": [
        "parameters = {'C':np.linspace(5,6, num = 20), 'gamma':np.linspace(0.5,0.8,num=20)}\n",
        "grid_search = GridSearchCV(svm.SVC(kernel='rbf'), parameters, cv=5,  n_jobs=-1, verbose = 2)\n",
        "grid_search.fit(X_transformed, y_res.ravel())\n",
        "print(grid_search.best_params_)"
      ],
      "execution_count": 23,
      "outputs": [
        {
          "output_type": "stream",
          "text": [
            "Fitting 5 folds for each of 400 candidates, totalling 2000 fits\n"
          ],
          "name": "stdout"
        },
        {
          "output_type": "stream",
          "text": [
            "[Parallel(n_jobs=-1)]: Using backend LokyBackend with 2 concurrent workers.\n",
            "[Parallel(n_jobs=-1)]: Done  37 tasks      | elapsed:   22.9s\n",
            "[Parallel(n_jobs=-1)]: Done 158 tasks      | elapsed:  1.6min\n",
            "[Parallel(n_jobs=-1)]: Done 361 tasks      | elapsed:  3.6min\n",
            "[Parallel(n_jobs=-1)]: Done 644 tasks      | elapsed:  6.3min\n",
            "[Parallel(n_jobs=-1)]: Done 1009 tasks      | elapsed:  9.9min\n",
            "[Parallel(n_jobs=-1)]: Done 1454 tasks      | elapsed: 14.3min\n",
            "[Parallel(n_jobs=-1)]: Done 1981 tasks      | elapsed: 19.4min\n",
            "[Parallel(n_jobs=-1)]: Done 2000 out of 2000 | elapsed: 19.6min finished\n"
          ],
          "name": "stderr"
        },
        {
          "output_type": "stream",
          "text": [
            "{'C': 5.052631578947368, 'gamma': 0.7526315789473685}\n"
          ],
          "name": "stdout"
        }
      ]
    }
  ]
}